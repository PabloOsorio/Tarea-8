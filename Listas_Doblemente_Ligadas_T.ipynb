{
  "nbformat": 4,
  "nbformat_minor": 0,
  "metadata": {
    "colab": {
      "name": "Listas_Doblemente_Ligadas_T.ipynb",
      "provenance": [],
      "collapsed_sections": [],
      "authorship_tag": "ABX9TyN3y21XGIMvA+p7tUyjupyA",
      "include_colab_link": true
    },
    "kernelspec": {
      "name": "python3",
      "display_name": "Python 3"
    },
    "language_info": {
      "name": "python"
    }
  },
  "cells": [
    {
      "cell_type": "markdown",
      "metadata": {
        "id": "view-in-github",
        "colab_type": "text"
      },
      "source": [
        "<a href=\"https://colab.research.google.com/github/PabloOsorio/Tarea-8/blob/main/Listas_Doblemente_Ligadas_T.ipynb\" target=\"_parent\"><img src=\"https://colab.research.google.com/assets/colab-badge.svg\" alt=\"Open In Colab\"/></a>"
      ]
    },
    {
      "cell_type": "code",
      "metadata": {
        "id": "fyu3I09ScP_D"
      },
      "source": [
        "class NodoDoble: \n",
        "\n",
        "  def __init__(self, value, siguiente = None, previo = None):\n",
        "    self.data = value\n",
        "    self.next = siguiente\n",
        "    self.prev = previo\n",
        "\n",
        "class DoubleLinkedList:\n",
        "\n",
        "        def __init__(self):\n",
        "            self.head = None\n",
        "            self.tail = None\n",
        "            self.size = 0\n",
        "\n",
        "        def get_size(self):\n",
        "            ##Tamaño que sin el aumento de append no tendria sentido\n",
        "            return self.size\n",
        "\n",
        "        def is_empty(self): \n",
        "\n",
        "            return self.size == 0\n",
        "\n",
        "        def append(self, value):\n",
        "            if self.is_empty():\n",
        "                self.head = NodoDoble(value)\n",
        "                self.tail = self.head\n",
        "            else:\n",
        "                self.tail.next = NodoDoble(value, None, self.tail)\n",
        "                self.tail = self.tail.next\n",
        "            self.size +=1 \n",
        "\n",
        "        def transversal(self):\n",
        "            curr_node = self.head \n",
        "\n",
        "            while curr_node != None :\n",
        "                print(f\"| {curr_node.data} | -->\", end=\"\")\n",
        "                curr_node = curr_node.next\n",
        "            print(\"\")\n",
        "\n",
        "\n",
        "        def remove_from_head(self, value):\n",
        "            curr_node = self.head \n",
        "\n",
        "            while curr_node.data != value: \n",
        "                curr_node = curr_node.next\n",
        "            if curr_node.data == value:\n",
        "                curr_node.prev.next = curr_node.next\n",
        "                curr_node.next.prev = curr_node.prev\n",
        "                \n",
        "           \n",
        "        def remove_from_tail(self, value):\n",
        "            curr_node = self.tail\n",
        "\n",
        "            while curr_node.data != value:\n",
        "                curr_node = curr_node.prev\n",
        "            if curr_node.data == value:\n",
        "                curr_node.next.prev = curr_node.prev\n",
        "                curr_node.prev.next = curr_node.next\n",
        "               \n",
        "        def find_from_head(self, value):\n",
        "            curr_node = self.head \n",
        "            contador = 0\n",
        "\n",
        "            while curr_node.data != value:\n",
        "                contador += 1\n",
        "                curr_node = curr_node.next\n",
        "            if curr_node.data == value:\n",
        "                print(f\"Ingresando por tail su valor esta en la posicion: {contador + 1}\")\n",
        "\n",
        "        def find_from_tail(self, value):\n",
        "            curr_node = self.tail\n",
        "            contador = 0\n",
        "\n",
        "            while curr_node.data != value:\n",
        "                contador += 1\n",
        "                curr_node = curr_node.prev\n",
        "            if curr_node.data == value:\n",
        "                print(f\"Ingresando por tail su valor esta en la posicion: {contador + 1}\")\n",
        "            \n",
        "\n",
        "\n",
        "        def reverse_transversal(self):\n",
        "            curr_node = self.tail\n",
        "\n",
        "            while curr_node != None:\n",
        "                print(f\"| {curr_node.data} | -->\", end=\"\")\n",
        "                curr_node = curr_node.prev\n",
        "            print(\"\")"
      ],
      "execution_count": 14,
      "outputs": []
    },
    {
      "cell_type": "code",
      "metadata": {
        "colab": {
          "base_uri": "https://localhost:8080/"
        },
        "id": "40e_Vhmwc929",
        "outputId": "b2e00d12-c72d-422f-ae0b-62dbdc0d8e4a"
      },
      "source": [
        "Ldl = DoubleLinkedList()\n",
        "Ldl.append(35)\n",
        "Ldl.append(40)\n",
        "Ldl.append(45)\n",
        "Ldl.append(50)\n",
        "Ldl.append(55)\n",
        "Ldl.append(60)\n",
        "Ldl.size\n",
        "Ldl.transversal()\n",
        "print(\".-.-.-.-.-.-.\")\n",
        "print(f\"Vacia = {Ldl.is_empty()}\")\n",
        "Ldl.find_from_tail(45)\n",
        "print(\".-.-.-.-.-.-.-.-\")\n",
        "Ldl.find_from_head(45)\n",
        "print(\".-.-.-.-.-.-.-.-.-.\")\n",
        "Ldl.remove_from_tail(40)\n",
        "Ldl.transversal()#Aqui ya le quito el 40\n"
      ],
      "execution_count": 18,
      "outputs": [
        {
          "output_type": "stream",
          "name": "stdout",
          "text": [
            "| 35 | -->| 40 | -->| 45 | -->| 50 | -->| 55 | -->| 60 | -->\n",
            ".-.-.-.-.-.-.\n",
            "Vacia = False\n",
            "Ingresando por tail su valor esta en la posicion: 4\n",
            ".-.-.-.-.-.-.-.-\n",
            "Ingresando por tail su valor esta en la posicion: 3\n",
            ".-.-.-.-.-.-.-.-.-.\n",
            "| 35 | -->| 45 | -->| 50 | -->| 55 | -->| 60 | -->\n"
          ]
        }
      ]
    }
  ]
}